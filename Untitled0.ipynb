{
  "nbformat": 4,
  "nbformat_minor": 0,
  "metadata": {
    "colab": {
      "provenance": [],
      "authorship_tag": "ABX9TyMUFlkUnGadTUoRW2Ypscse",
      "include_colab_link": true
    },
    "kernelspec": {
      "name": "python3",
      "display_name": "Python 3"
    },
    "language_info": {
      "name": "python"
    }
  },
  "cells": [
    {
      "cell_type": "markdown",
      "metadata": {
        "id": "view-in-github",
        "colab_type": "text"
      },
      "source": [
        "<a href=\"https://colab.research.google.com/github/annie1301/EDA/blob/main/Untitled0.ipynb\" target=\"_parent\"><img src=\"https://colab.research.google.com/assets/colab-badge.svg\" alt=\"Open In Colab\"/></a>"
      ]
    },
    {
      "cell_type": "code",
      "source": [
        "import matplotlib.pyplot as plt\n",
        "import pandas as pd\n",
        "import numpy as np\n",
        "import seaborn as sns\n",
        "import matplotlib.pyplot\n",
        "from scipy.stats import skew,kurtosis\n",
        "df_1=pd.read_csv(\"https://raw.githubusercontent.com/annie1301/EDA/main/penguins_lter.csv\")\n",
        "df_1=df_1.dropna(subset=['Sex'])#removing Nan values from Sex column\n",
        "#uni=df_1['Sex'].unique()\n",
        "df_1['Sex']=df_1['Sex'].replace(\".\",np.nan)#.str.strip().str.lower().str.capitalize()#then write dropna\n",
        "print(df_1)\n",
        "df_1=df_1[df_1['Sex'].notna()] #removing '.' --- giving problem\n"
      ],
      "metadata": {
        "colab": {
          "base_uri": "https://localhost:8080/"
        },
        "id": "1dhLcqDE1xyh",
        "outputId": "eaa21c40-0998-4a47-ba5b-7f8923103f94"
      },
      "execution_count": 2,
      "outputs": [
        {
          "output_type": "stream",
          "name": "stdout",
          "text": [
            "    studyName  Sample Number                              Species  Region  \\\n",
            "0     PAL0708              1  Adelie Penguin (Pygoscelis adeliae)  Anvers   \n",
            "1     PAL0708              2  Adelie Penguin (Pygoscelis adeliae)  Anvers   \n",
            "2     PAL0708              3  Adelie Penguin (Pygoscelis adeliae)  Anvers   \n",
            "4     PAL0708              5  Adelie Penguin (Pygoscelis adeliae)  Anvers   \n",
            "5     PAL0708              6  Adelie Penguin (Pygoscelis adeliae)  Anvers   \n",
            "..        ...            ...                                  ...     ...   \n",
            "338   PAL0910            119    Gentoo penguin (Pygoscelis papua)  Anvers   \n",
            "340   PAL0910            121    Gentoo penguin (Pygoscelis papua)  Anvers   \n",
            "341   PAL0910            122    Gentoo penguin (Pygoscelis papua)  Anvers   \n",
            "342   PAL0910            123    Gentoo penguin (Pygoscelis papua)  Anvers   \n",
            "343   PAL0910            124    Gentoo penguin (Pygoscelis papua)  Anvers   \n",
            "\n",
            "        Island               Stage Individual ID Clutch Completion  Date Egg  \\\n",
            "0    Torgersen  Adult, 1 Egg Stage          N1A1               Yes  11/11/07   \n",
            "1    Torgersen  Adult, 1 Egg Stage          N1A2               Yes  11/11/07   \n",
            "2    Torgersen  Adult, 1 Egg Stage          N2A1               Yes  11/16/07   \n",
            "4    Torgersen  Adult, 1 Egg Stage          N3A1               Yes  11/16/07   \n",
            "5    Torgersen  Adult, 1 Egg Stage          N3A2               Yes  11/16/07   \n",
            "..         ...                 ...           ...               ...       ...   \n",
            "338     Biscoe  Adult, 1 Egg Stage         N38A1                No   12/1/09   \n",
            "340     Biscoe  Adult, 1 Egg Stage         N39A1               Yes  11/22/09   \n",
            "341     Biscoe  Adult, 1 Egg Stage         N39A2               Yes  11/22/09   \n",
            "342     Biscoe  Adult, 1 Egg Stage         N43A1               Yes  11/22/09   \n",
            "343     Biscoe  Adult, 1 Egg Stage         N43A2               Yes  11/22/09   \n",
            "\n",
            "     Culmen Length (mm)  Culmen Depth (mm)  Flipper Length (mm)  \\\n",
            "0                  39.1               18.7                181.0   \n",
            "1                  39.5               17.4                186.0   \n",
            "2                  40.3               18.0                195.0   \n",
            "4                  36.7               19.3                193.0   \n",
            "5                  39.3               20.6                190.0   \n",
            "..                  ...                ...                  ...   \n",
            "338                47.2               13.7                214.0   \n",
            "340                46.8               14.3                215.0   \n",
            "341                50.4               15.7                222.0   \n",
            "342                45.2               14.8                212.0   \n",
            "343                49.9               16.1                213.0   \n",
            "\n",
            "     Body Mass (g)     Sex  Delta 15 N (o/oo)  Delta 13 C (o/oo)  \\\n",
            "0           3750.0    MALE                NaN                NaN   \n",
            "1           3800.0  FEMALE            8.94956          -24.69454   \n",
            "2           3250.0  FEMALE            8.36821          -25.33302   \n",
            "4           3450.0  FEMALE            8.76651          -25.32426   \n",
            "5           3650.0    MALE            8.66496          -25.29805   \n",
            "..             ...     ...                ...                ...   \n",
            "338         4925.0  FEMALE            7.99184          -26.20538   \n",
            "340         4850.0  FEMALE            8.41151          -26.13832   \n",
            "341         5750.0    MALE            8.30166          -26.04117   \n",
            "342         5200.0  FEMALE            8.24246          -26.11969   \n",
            "343         5400.0    MALE            8.36390          -26.15531   \n",
            "\n",
            "                           Comments  \n",
            "0    Not enough blood for isotopes.  \n",
            "1                               NaN  \n",
            "2                               NaN  \n",
            "4                               NaN  \n",
            "5                               NaN  \n",
            "..                              ...  \n",
            "338                             NaN  \n",
            "340                             NaN  \n",
            "341                             NaN  \n",
            "342                             NaN  \n",
            "343                             NaN  \n",
            "\n",
            "[334 rows x 17 columns]\n"
          ]
        },
        {
          "output_type": "stream",
          "name": "stderr",
          "text": [
            "<ipython-input-2-5e5c606c7618>:10: SettingWithCopyWarning: \n",
            "A value is trying to be set on a copy of a slice from a DataFrame.\n",
            "Try using .loc[row_indexer,col_indexer] = value instead\n",
            "\n",
            "See the caveats in the documentation: https://pandas.pydata.org/pandas-docs/stable/user_guide/indexing.html#returning-a-view-versus-a-copy\n",
            "  df_1['Sex']=df_1['Sex'].replace(\".\",np.nan)#.str.strip().str.lower().str.capitalize()#then write dropna\n"
          ]
        }
      ]
    },
    {
      "cell_type": "code",
      "execution_count": 3,
      "metadata": {
        "colab": {
          "base_uri": "https://localhost:8080/"
        },
        "id": "Iko1IWEx1nBU",
        "outputId": "b118d1f3-ff3e-4a34-e01a-c018629b90a1"
      },
      "outputs": [
        {
          "output_type": "stream",
          "name": "stdout",
          "text": [
            "1089218900.0\n",
            "1247703583.4314024\n",
            "0.8729788985653613\n"
          ]
        }
      ],
      "source": [
        "sum_FL=(df_1['Flipper Length (mm)'].sum())\n",
        "sum_BM=(df_1[\"Body Mass (g)\"].sum())\n",
        "prod=df_1['Flipper Length (mm)']*df_1[\"Body Mass (g)\"]\n",
        "x_y=sum(prod)\n",
        "n=len(df_1['Flipper Length (mm)'])\n",
        "FL_2=(df_1['Flipper Length (mm)']*df_1['Flipper Length (mm)'])\n",
        "sum_FL_2=FL_2.sum()\n",
        "BM_2=(df_1[\"Body Mass (g)\"]*df_1[\"Body Mass (g)\"])\n",
        "sum_BM_2=BM_2.sum()\n",
        "corr_numer=n*(x_y)-(sum_BM*sum_FL)\n",
        "print(corr_numer)\n",
        "corr_denom=((n*sum_FL_2-(sum_FL)**2)*(n*sum_BM_2-(sum_BM)**2))**0.5\n",
        "print(corr_denom)\n",
        "corr_coeff=corr_numer/corr_denom\n",
        "print(corr_coeff)"
      ]
    }
  ]
}